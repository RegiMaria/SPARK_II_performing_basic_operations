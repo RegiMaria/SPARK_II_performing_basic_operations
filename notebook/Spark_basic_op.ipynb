{
 "cells": [
  {
   "cell_type": "markdown",
   "metadata": {
    "application/vnd.databricks.v1+cell": {
     "cellMetadata": {},
     "inputWidgets": {},
     "nuid": "d141322b-f959-40ad-b6d5-ec6eb9eef9ea",
     "showTitle": false,
     "title": ""
    }
   },
   "source": [
    "Load file in Data Lake"
   ]
  },
  {
   "cell_type": "code",
   "execution_count": 0,
   "metadata": {
    "application/vnd.databricks.v1+cell": {
     "cellMetadata": {
      "byteLimit": 2048000,
      "rowLimit": 10000
     },
     "inputWidgets": {},
     "nuid": "7c007114-8a23-44a7-90c3-43aed4a5a0ce",
     "showTitle": true,
     "title": "Load file"
    }
   },
   "outputs": [
    {
     "output_type": "stream",
     "name": "stdout",
     "output_type": "stream",
     "text": [
      "+----------+--------------------+------------+------------+----------+----------+\n|     marca|              modelo|         ano|          km|    cambio|     preco|\n+----------+--------------------+------------+------------+----------+----------+\n|      FIAT|    MOBI LIKE 1.0 4P|2022/2023\\n||60.925 km\\n||    MANUAL| R$ 54.290|\n|    TOYOTA|COROLLA ALTIS HYB...|2021/2022\\n||25.918 km\\n||AUTOMÁTICO|R$ 155.190|\n|    TOYOTA|COROLLA CROSS XR ...|2021/2022\\n||24.954 km\\n||AUTOMÁTICO|R$ 124.190|\n|   RENAULT|       LOGAN ZEN 1.0|2022/2023\\n||48.120 km\\n||    MANUAL| R$ 64.390|\n|VOLKSWAGEN|          VOYAGE 1.0|2022/2023\\n||22.111 km\\n||    MANUAL| R$ 62.990|\n|      FIAT|UNO ATTRACTIVE EV...|2020/2020\\n||95.633 km\\n||    MANUAL| R$ 47.990|\n|   RENAULT|     KWID ZEN 1.0 4P|2022/2023\\n||18.187 km\\n||    MANUAL| R$ 57.290|\n|VOLKSWAGEN|T-CROSS 200 TSI A...|2022/2022\\n||45.430 km\\n||AUTOMÁTICO|R$ 103.990|\n|VOLKSWAGEN|      GOL MPI 1.0 4P|2022/2023\\n||68.410 km\\n||    MANUAL| R$ 57.490|\n|VOLKSWAGEN|      GOL MPI 1.0 4P|2022/2023\\n||47.916 km\\n||    MANUAL| R$ 59.290|\n+----------+--------------------+------------+------------+----------+----------+\nonly showing top 10 rows\n\n"
     ]
    }
   ],
   "source": [
    "file_path = \"dbfs:/FileStore/cardealer/df_car_raw.csv\"\n",
    "\n",
    "df_car_raw = spark.read.option(\"header\", \"true\") \\\n",
    "    .option(\"escape\", \"\\\"\") \\\n",
    "    .option(\"multiline\", \"true\") \\\n",
    "    .option(\"quote\", \"\\\"\") \\\n",
    "    .option(\"ignoreLeadingWhiteSpace\", \"true\") \\\n",
    "    .option(\"ignoreTrailingWhiteSpace\", \"true\") \\\n",
    "    .csv(file_path)\n",
    "\n",
    "df_car_raw.show(10)\n"
   ]
  },
  {
   "cell_type": "markdown",
   "metadata": {
    "application/vnd.databricks.v1+cell": {
     "cellMetadata": {},
     "inputWidgets": {},
     "nuid": "ba7dda1b-e236-4199-a5a6-fc1f3caa9f6a",
     "showTitle": false,
     "title": ""
    }
   },
   "source": [
    "**BRONZE LAYER**"
   ]
  },
  {
   "cell_type": "code",
   "execution_count": 0,
   "metadata": {
    "application/vnd.databricks.v1+cell": {
     "cellMetadata": {
      "byteLimit": 2048000,
      "rowLimit": 10000
     },
     "inputWidgets": {},
     "nuid": "cad6ae33-a0a5-43d2-92a6-07601be9db91",
     "showTitle": true,
     "title": "save in bronze layer"
    }
   },
   "outputs": [],
   "source": [
    "bronze_path = \"dbfs:/FileStore/cardealer//bronze\"\n",
    "df_car_bronze = df_car_raw.write.format(\"delta\").mode(\"overwrite\").save(bronze_path)"
   ]
  },
  {
   "cell_type": "code",
   "execution_count": 0,
   "metadata": {
    "application/vnd.databricks.v1+cell": {
     "cellMetadata": {
      "byteLimit": 2048000,
      "rowLimit": 10000
     },
     "inputWidgets": {},
     "nuid": "6cba1b73-3bb9-4ff8-b5ba-b7527aafa8a9",
     "showTitle": true,
     "title": "load"
    }
   },
   "outputs": [
    {
     "output_type": "stream",
     "name": "stdout",
     "output_type": "stream",
     "text": [
      "+----------+--------------------+------------+------------+----------+----------+\n|     marca|              modelo|         ano|          km|    cambio|     preco|\n+----------+--------------------+------------+------------+----------+----------+\n|      FIAT|    MOBI LIKE 1.0 4P|2022/2023\\n||60.925 km\\n||    MANUAL| R$ 54.290|\n|    TOYOTA|COROLLA ALTIS HYB...|2021/2022\\n||25.918 km\\n||AUTOMÁTICO|R$ 155.190|\n|    TOYOTA|COROLLA CROSS XR ...|2021/2022\\n||24.954 km\\n||AUTOMÁTICO|R$ 124.190|\n|   RENAULT|       LOGAN ZEN 1.0|2022/2023\\n||48.120 km\\n||    MANUAL| R$ 64.390|\n|VOLKSWAGEN|          VOYAGE 1.0|2022/2023\\n||22.111 km\\n||    MANUAL| R$ 62.990|\n|      FIAT|UNO ATTRACTIVE EV...|2020/2020\\n||95.633 km\\n||    MANUAL| R$ 47.990|\n|   RENAULT|     KWID ZEN 1.0 4P|2022/2023\\n||18.187 km\\n||    MANUAL| R$ 57.290|\n|VOLKSWAGEN|T-CROSS 200 TSI A...|2022/2022\\n||45.430 km\\n||AUTOMÁTICO|R$ 103.990|\n|VOLKSWAGEN|      GOL MPI 1.0 4P|2022/2023\\n||68.410 km\\n||    MANUAL| R$ 57.490|\n|VOLKSWAGEN|      GOL MPI 1.0 4P|2022/2023\\n||47.916 km\\n||    MANUAL| R$ 59.290|\n+----------+--------------------+------------+------------+----------+----------+\nonly showing top 10 rows\n\n"
     ]
    }
   ],
   "source": [
    "df_car_bronze = spark.read.format(\"delta\").load(\"dbfs:/FileStore/cardealer/bronze\")\n",
    "df_car_bronze.show(10)"
   ]
  },
  {
   "cell_type": "markdown",
   "metadata": {
    "application/vnd.databricks.v1+cell": {
     "cellMetadata": {},
     "inputWidgets": {},
     "nuid": "6d93f0e0-a935-43c1-b6ed-1569d80828f6",
     "showTitle": false,
     "title": ""
    }
   },
   "source": [
    "**SILVER LAYER**"
   ]
  },
  {
   "cell_type": "code",
   "execution_count": 0,
   "metadata": {
    "application/vnd.databricks.v1+cell": {
     "cellMetadata": {
      "byteLimit": 2048000,
      "rowLimit": 10000
     },
     "inputWidgets": {},
     "nuid": "9cb064cc-b487-4ac0-9fb8-e73d3e1fc086",
     "showTitle": false,
     "title": ""
    }
   },
   "outputs": [
    {
     "output_type": "stream",
     "name": "stdout",
     "output_type": "stream",
     "text": [
      "Out[171]: True"
     ]
    }
   ],
   "source": [
    "dbutils.fs.rm(\"dbfs:/FileStore/cardealer/silver\", recurse=True)\n"
   ]
  },
  {
   "cell_type": "code",
   "execution_count": 0,
   "metadata": {
    "application/vnd.databricks.v1+cell": {
     "cellMetadata": {
      "byteLimit": 2048000,
      "rowLimit": 10000
     },
     "inputWidgets": {},
     "nuid": "8b8e4ace-8d0f-49d0-867e-2152e589a387",
     "showTitle": false,
     "title": ""
    }
   },
   "outputs": [],
   "source": [
    "silver_path = \"dbfs:/FileStore/cardealer/silver\"\n",
    "df_car_silver = df_car_bronze.write.format(\"delta\").mode(\"overwrite\").save(silver_path)"
   ]
  },
  {
   "cell_type": "code",
   "execution_count": 0,
   "metadata": {
    "application/vnd.databricks.v1+cell": {
     "cellMetadata": {
      "byteLimit": 2048000,
      "rowLimit": 10000
     },
     "inputWidgets": {},
     "nuid": "3f1321c6-1451-433f-9f58-2bc85b3d964a",
     "showTitle": false,
     "title": ""
    }
   },
   "outputs": [
    {
     "output_type": "stream",
     "name": "stdout",
     "output_type": "stream",
     "text": [
      "+----------+--------------------+------------+------------+----------+----------+\n|     marca|              modelo|         ano|          km|    cambio|     preco|\n+----------+--------------------+------------+------------+----------+----------+\n|      FIAT|    MOBI LIKE 1.0 4P|2022/2023\\n||60.925 km\\n||    MANUAL| R$ 54.290|\n|    TOYOTA|COROLLA ALTIS HYB...|2021/2022\\n||25.918 km\\n||AUTOMÁTICO|R$ 155.190|\n|    TOYOTA|COROLLA CROSS XR ...|2021/2022\\n||24.954 km\\n||AUTOMÁTICO|R$ 124.190|\n|   RENAULT|       LOGAN ZEN 1.0|2022/2023\\n||48.120 km\\n||    MANUAL| R$ 64.390|\n|VOLKSWAGEN|          VOYAGE 1.0|2022/2023\\n||22.111 km\\n||    MANUAL| R$ 62.990|\n|      FIAT|UNO ATTRACTIVE EV...|2020/2020\\n||95.633 km\\n||    MANUAL| R$ 47.990|\n|   RENAULT|     KWID ZEN 1.0 4P|2022/2023\\n||18.187 km\\n||    MANUAL| R$ 57.290|\n|VOLKSWAGEN|T-CROSS 200 TSI A...|2022/2022\\n||45.430 km\\n||AUTOMÁTICO|R$ 103.990|\n|VOLKSWAGEN|      GOL MPI 1.0 4P|2022/2023\\n||68.410 km\\n||    MANUAL| R$ 57.490|\n|VOLKSWAGEN|      GOL MPI 1.0 4P|2022/2023\\n||47.916 km\\n||    MANUAL| R$ 59.290|\n+----------+--------------------+------------+------------+----------+----------+\nonly showing top 10 rows\n\n"
     ]
    }
   ],
   "source": [
    "df_car_silver = spark.read.format(\"delta\").load(\"dbfs:/FileStore/cardealer/bronze\")\n",
    "df_car_silver.show(10)"
   ]
  },
  {
   "cell_type": "code",
   "execution_count": 0,
   "metadata": {
    "application/vnd.databricks.v1+cell": {
     "cellMetadata": {
      "byteLimit": 2048000,
      "rowLimit": 10000
     },
     "inputWidgets": {},
     "nuid": "3d87c986-8932-4ddd-89e8-114ec5911e94",
     "showTitle": true,
     "title": "renamed columns"
    }
   },
   "outputs": [
    {
     "output_type": "stream",
     "name": "stdout",
     "output_type": "stream",
     "text": [
      "+----------+--------------------+------------+------------+----------+----------+\n|     brand|               model|        year|     mileage|   gearbox|     price|\n+----------+--------------------+------------+------------+----------+----------+\n|      FIAT|    MOBI LIKE 1.0 4P|2022/2023\\n||60.925 km\\n||    MANUAL| R$ 54.290|\n|    TOYOTA|COROLLA ALTIS HYB...|2021/2022\\n||25.918 km\\n||AUTOMÁTICO|R$ 155.190|\n|    TOYOTA|COROLLA CROSS XR ...|2021/2022\\n||24.954 km\\n||AUTOMÁTICO|R$ 124.190|\n|   RENAULT|       LOGAN ZEN 1.0|2022/2023\\n||48.120 km\\n||    MANUAL| R$ 64.390|\n|VOLKSWAGEN|          VOYAGE 1.0|2022/2023\\n||22.111 km\\n||    MANUAL| R$ 62.990|\n+----------+--------------------+------------+------------+----------+----------+\nonly showing top 5 rows\n\n"
     ]
    }
   ],
   "source": [
    "df_car_silver = df_car_silver.withColumnRenamed(\"marca\", \"brand\") \\\n",
    "    .withColumnRenamed(\"modelo\", \"model\") \\\n",
    "    .withColumnRenamed(\"ano\", \"year\") \\\n",
    "    .withColumnRenamed(\"km\", \"mileage\") \\\n",
    "    .withColumnRenamed(\"cambio\", \"gearbox\") \\\n",
    "    .withColumnRenamed(\"preco\", \"price\")\n",
    "df_car_silver.show(5)"
   ]
  },
  {
   "cell_type": "code",
   "execution_count": 0,
   "metadata": {
    "application/vnd.databricks.v1+cell": {
     "cellMetadata": {
      "byteLimit": 2048000,
      "rowLimit": 10000
     },
     "inputWidgets": {},
     "nuid": "06c06d5a-2245-4c2d-9cfe-c573f173e31c",
     "showTitle": false,
     "title": ""
    }
   },
   "outputs": [
    {
     "output_type": "stream",
     "name": "stdout",
     "output_type": "stream",
     "text": [
      "+----------+------------------------------+----------+----------+----------+----------+\n|brand     |model                         |year      |mileage   |gearbox   |price     |\n+----------+------------------------------+----------+----------+----------+----------+\n|FIAT      |MOBI LIKE 1.0 4P              |2022/2023||60.925 km||MANUAL    |R$ 54.290 |\n|TOYOTA    |COROLLA ALTIS HYBRID AT 1.8 4P|2021/2022||25.918 km||AUTOMÁTICO|R$ 155.190|\n|TOYOTA    |COROLLA CROSS XR FLEX 2.0 4P  |2021/2022||24.954 km||AUTOMÁTICO|R$ 124.190|\n|RENAULT   |LOGAN ZEN 1.0                 |2022/2023||48.120 km||MANUAL    |R$ 64.390 |\n|VOLKSWAGEN|VOYAGE 1.0                    |2022/2023||22.111 km||MANUAL    |R$ 62.990 |\n|FIAT      |UNO ATTRACTIVE EVO 1.0 4P     |2020/2020||95.633 km||MANUAL    |R$ 47.990 |\n|RENAULT   |KWID ZEN 1.0 4P               |2022/2023||18.187 km||MANUAL    |R$ 57.290 |\n|VOLKSWAGEN|T-CROSS 200 TSI AT 1.0 4P     |2022/2022||45.430 km||AUTOMÁTICO|R$ 103.990|\n|VOLKSWAGEN|GOL MPI 1.0 4P                |2022/2023||68.410 km||MANUAL    |R$ 57.490 |\n|VOLKSWAGEN|GOL MPI 1.0 4P                |2022/2023||47.916 km||MANUAL    |R$ 59.290 |\n|FIAT      |ARGO FLEX 1.0 4P              |2022/2022||65.625 km||AUTOMÁTICO|R$ 61.900 |\n|CHEVROLET |ONIX PLUS TURBO LTZ MT 1.0 4P |2022/2023||30.035 km||MANUAL    |R$ 87.390 |\n|VOLKSWAGEN|GOL MPI MT 1.6 4P             |2021/2022||57.374 km||MANUAL    |R$ 60.890 |\n|FIAT      |MOBI LIKE 1.0 4P              |2022/2023||13.411 km||MANUAL    |R$ 59.790 |\n|FIAT      |MOBI LIKE 1.0 4P              |2022/2023||15.611 km||MANUAL    |R$ 60.290 |\n|VOLKSWAGEN|VIRTUS MSI AT 1.6 4P          |2021/2021||87.439 km||AUTOMÁTICO|R$ 80.090 |\n|FIAT      |MOBI LIKE 1.0 4P              |2022/2023||55.178 km||MANUAL    |R$ 55.790 |\n|VOLKSWAGEN|VOYAGE 1.6                    |2021/2022||72.963 km||MANUAL    |R$ 63.790 |\n|CHEVROLET |ONIX JOY PLUS BLACK 1.0       |2021/2021||69.456 km||MANUAL    |R$ 65.890 |\n|PEUGEOT   |208 HATCH ALLURE 1.6          |2022/2022||50.510 km||AUTOMÁTICO|R$ 78.090 |\n+----------+------------------------------+----------+----------+----------+----------+\nonly showing top 20 rows\n\n"
     ]
    }
   ],
   "source": [
    "from pyspark.sql.functions import regexp_replace\n",
    "\n",
    "for col_name in df_car_silver.columns:\n",
    "    df_car_silver = df_car_silver.withColumn(col_name, regexp_replace(df_car_silver[col_name], \"\\n\", \"\"))\n",
    "\n",
    "df_car_silver.show(truncate=False)\n"
   ]
  },
  {
   "cell_type": "code",
   "execution_count": 0,
   "metadata": {
    "application/vnd.databricks.v1+cell": {
     "cellMetadata": {
      "byteLimit": 2048000,
      "rowLimit": 10000
     },
     "inputWidgets": {},
     "nuid": "5da94036-2887-4e12-a4aa-b7423f0d6fdf",
     "showTitle": true,
     "title": "Replace year, milage"
    }
   },
   "outputs": [
    {
     "output_type": "stream",
     "name": "stdout",
     "output_type": "stream",
     "text": [
      "+----------+------------------------------+---------+-------+----------+--------+\n|brand     |model                         |year     |mileage|gearbox   |price   |\n+----------+------------------------------+---------+-------+----------+--------+\n|FIAT      |MOBI LIKE 1.0 4P              |2022/2023|60.925 |MANUAL    | 54.290 |\n|TOYOTA    |COROLLA ALTIS HYBRID AT 1.8 4P|2021/2022|25.918 |AUTOMÁTICO| 155.190|\n|TOYOTA    |COROLLA CROSS XR FLEX 2.0 4P  |2021/2022|24.954 |AUTOMÁTICO| 124.190|\n|RENAULT   |LOGAN ZEN 1.0                 |2022/2023|48.120 |MANUAL    | 64.390 |\n|VOLKSWAGEN|VOYAGE 1.0                    |2022/2023|22.111 |MANUAL    | 62.990 |\n|FIAT      |UNO ATTRACTIVE EVO 1.0 4P     |2020/2020|95.633 |MANUAL    | 47.990 |\n|RENAULT   |KWID ZEN 1.0 4P               |2022/2023|18.187 |MANUAL    | 57.290 |\n|VOLKSWAGEN|T-CROSS 200 TSI AT 1.0 4P     |2022/2022|45.430 |AUTOMÁTICO| 103.990|\n|VOLKSWAGEN|GOL MPI 1.0 4P                |2022/2023|68.410 |MANUAL    | 57.490 |\n|VOLKSWAGEN|GOL MPI 1.0 4P                |2022/2023|47.916 |MANUAL    | 59.290 |\n|FIAT      |ARGO FLEX 1.0 4P              |2022/2022|65.625 |AUTOMÁTICO| 61.900 |\n|CHEVROLET |ONIX PLUS TURBO LTZ MT 1.0 4P |2022/2023|30.035 |MANUAL    | 87.390 |\n|VOLKSWAGEN|GOL MPI MT 1.6 4P             |2021/2022|57.374 |MANUAL    | 60.890 |\n|FIAT      |MOBI LIKE 1.0 4P              |2022/2023|13.411 |MANUAL    | 59.790 |\n|FIAT      |MOBI LIKE 1.0 4P              |2022/2023|15.611 |MANUAL    | 60.290 |\n|VOLKSWAGEN|VIRTUS MSI AT 1.6 4P          |2021/2021|87.439 |AUTOMÁTICO| 80.090 |\n|FIAT      |MOBI LIKE 1.0 4P              |2022/2023|55.178 |MANUAL    | 55.790 |\n|VOLKSWAGEN|VOYAGE 1.6                    |2021/2022|72.963 |MANUAL    | 63.790 |\n|CHEVROLET |ONIX JOY PLUS BLACK 1.0       |2021/2021|69.456 |MANUAL    | 65.890 |\n|PEUGEOT   |208 HATCH ALLURE 1.6          |2022/2022|50.510 |AUTOMÁTICO| 78.090 |\n+----------+------------------------------+---------+-------+----------+--------+\nonly showing top 20 rows\n\n"
     ]
    }
   ],
   "source": [
    "from pyspark.sql.functions import regexp_replace\n",
    "df_car_silver = df_car_silver \\\n",
    "    .withColumn(\"year\", regexp_replace(\"year\", \"\\\\|\", \"\")) \\\n",
    "    .withColumn(\"mileage\", regexp_replace(\"mileage\", \" km|\\\\|\", \"\")) \\\n",
    "    .withColumn(\"price\", regexp_replace(\"price\", \"R\\\\$\", \"\"))\n",
    "\n",
    "df_car_silver.show(truncate=False)\n",
    "\n"
   ]
  },
  {
   "cell_type": "code",
   "execution_count": 0,
   "metadata": {
    "application/vnd.databricks.v1+cell": {
     "cellMetadata": {
      "byteLimit": 2048000,
      "rowLimit": 10000
     },
     "inputWidgets": {},
     "nuid": "c7e3dfde-ab84-4a87-aa68-875f873c3616",
     "showTitle": true,
     "title": "Convert Data Type"
    }
   },
   "outputs": [
    {
     "output_type": "stream",
     "name": "stdout",
     "output_type": "stream",
     "text": [
      "+----------+------------------------------+----+-------+----------+------+\n|brand     |model                         |year|mileage|gearbox   |price |\n+----------+------------------------------+----+-------+----------+------+\n|FIAT      |MOBI LIKE 1.0 4P              |2022|60925  |MANUAL    |54.29 |\n|TOYOTA    |COROLLA ALTIS HYBRID AT 1.8 4P|2021|25918  |AUTOMÁTICO|155.19|\n|TOYOTA    |COROLLA CROSS XR FLEX 2.0 4P  |2021|24954  |AUTOMÁTICO|124.19|\n|RENAULT   |LOGAN ZEN 1.0                 |2022|48120  |MANUAL    |64.39 |\n|VOLKSWAGEN|VOYAGE 1.0                    |2022|22111  |MANUAL    |62.99 |\n|FIAT      |UNO ATTRACTIVE EVO 1.0 4P     |2020|95633  |MANUAL    |47.99 |\n|RENAULT   |KWID ZEN 1.0 4P               |2022|18187  |MANUAL    |57.29 |\n|VOLKSWAGEN|T-CROSS 200 TSI AT 1.0 4P     |2022|45430  |AUTOMÁTICO|103.99|\n|VOLKSWAGEN|GOL MPI 1.0 4P                |2022|68410  |MANUAL    |57.49 |\n|VOLKSWAGEN|GOL MPI 1.0 4P                |2022|47916  |MANUAL    |59.29 |\n|FIAT      |ARGO FLEX 1.0 4P              |2022|65625  |AUTOMÁTICO|61.90 |\n|CHEVROLET |ONIX PLUS TURBO LTZ MT 1.0 4P |2022|30035  |MANUAL    |87.39 |\n|VOLKSWAGEN|GOL MPI MT 1.6 4P             |2021|57374  |MANUAL    |60.89 |\n|FIAT      |MOBI LIKE 1.0 4P              |2022|13411  |MANUAL    |59.79 |\n|FIAT      |MOBI LIKE 1.0 4P              |2022|15611  |MANUAL    |60.29 |\n|VOLKSWAGEN|VIRTUS MSI AT 1.6 4P          |2021|87439  |AUTOMÁTICO|80.09 |\n|FIAT      |MOBI LIKE 1.0 4P              |2022|55178  |MANUAL    |55.79 |\n|VOLKSWAGEN|VOYAGE 1.6                    |2021|72963  |MANUAL    |63.79 |\n|CHEVROLET |ONIX JOY PLUS BLACK 1.0       |2021|69456  |MANUAL    |65.89 |\n|PEUGEOT   |208 HATCH ALLURE 1.6          |2022|50510  |AUTOMÁTICO|78.09 |\n+----------+------------------------------+----+-------+----------+------+\nonly showing top 20 rows\n\n"
     ]
    }
   ],
   "source": [
    "from pyspark.sql.functions import regexp_replace, col\n",
    "from pyspark.sql.types import IntegerType, DecimalType\n",
    "\n",
    "df_car_silver = df_car_silver \\\n",
    "    .withColumn(\"year\", regexp_extract(col(\"year\"), r'(\\d{4})', 1).cast(IntegerType())) \\\n",
    "    .withColumn(\"mileage\", regexp_replace(col(\"mileage\"), r'\\.', '').cast(IntegerType())) \\\n",
    "    .withColumn(\"price\", col(\"price\").cast(DecimalType(10, 2)))\n",
    "\n",
    "df_car_silver.show(truncate=False)"
   ]
  },
  {
   "cell_type": "code",
   "execution_count": 0,
   "metadata": {
    "application/vnd.databricks.v1+cell": {
     "cellMetadata": {
      "byteLimit": 2048000,
      "rowLimit": 10000
     },
     "inputWidgets": {},
     "nuid": "50611929-44b5-4ede-a5ab-481be5d76303",
     "showTitle": true,
     "title": "Create a new column 'age'"
    }
   },
   "outputs": [
    {
     "output_type": "stream",
     "name": "stdout",
     "output_type": "stream",
     "text": [
      "+----------+------------------------------+----+-------+----------+------+---+\n|brand     |model                         |year|mileage|gearbox   |price |age|\n+----------+------------------------------+----+-------+----------+------+---+\n|FIAT      |MOBI LIKE 1.0 4P              |2022|60925  |MANUAL    |54.29 |2  |\n|TOYOTA    |COROLLA ALTIS HYBRID AT 1.8 4P|2021|25918  |AUTOMÁTICO|155.19|3  |\n|TOYOTA    |COROLLA CROSS XR FLEX 2.0 4P  |2021|24954  |AUTOMÁTICO|124.19|3  |\n|RENAULT   |LOGAN ZEN 1.0                 |2022|48120  |MANUAL    |64.39 |2  |\n|VOLKSWAGEN|VOYAGE 1.0                    |2022|22111  |MANUAL    |62.99 |2  |\n|FIAT      |UNO ATTRACTIVE EVO 1.0 4P     |2020|95633  |MANUAL    |47.99 |4  |\n|RENAULT   |KWID ZEN 1.0 4P               |2022|18187  |MANUAL    |57.29 |2  |\n|VOLKSWAGEN|T-CROSS 200 TSI AT 1.0 4P     |2022|45430  |AUTOMÁTICO|103.99|2  |\n|VOLKSWAGEN|GOL MPI 1.0 4P                |2022|68410  |MANUAL    |57.49 |2  |\n|VOLKSWAGEN|GOL MPI 1.0 4P                |2022|47916  |MANUAL    |59.29 |2  |\n|FIAT      |ARGO FLEX 1.0 4P              |2022|65625  |AUTOMÁTICO|61.90 |2  |\n|CHEVROLET |ONIX PLUS TURBO LTZ MT 1.0 4P |2022|30035  |MANUAL    |87.39 |2  |\n|VOLKSWAGEN|GOL MPI MT 1.6 4P             |2021|57374  |MANUAL    |60.89 |3  |\n|FIAT      |MOBI LIKE 1.0 4P              |2022|13411  |MANUAL    |59.79 |2  |\n|FIAT      |MOBI LIKE 1.0 4P              |2022|15611  |MANUAL    |60.29 |2  |\n|VOLKSWAGEN|VIRTUS MSI AT 1.6 4P          |2021|87439  |AUTOMÁTICO|80.09 |3  |\n|FIAT      |MOBI LIKE 1.0 4P              |2022|55178  |MANUAL    |55.79 |2  |\n|VOLKSWAGEN|VOYAGE 1.6                    |2021|72963  |MANUAL    |63.79 |3  |\n|CHEVROLET |ONIX JOY PLUS BLACK 1.0       |2021|69456  |MANUAL    |65.89 |3  |\n|PEUGEOT   |208 HATCH ALLURE 1.6          |2022|50510  |AUTOMÁTICO|78.09 |2  |\n+----------+------------------------------+----+-------+----------+------+---+\nonly showing top 20 rows\n\n"
     ]
    }
   ],
   "source": [
    "from pyspark.sql.functions import year, current_date, regexp_extract, col\n",
    "\n",
    "current_year = year(current_date())\n",
    "df_car_silver = df_car_silver.withColumn(\"age\", current_year - col(\"year\"))\n",
    "df_car_silver.show(truncate=False)\n"
   ]
  },
  {
   "cell_type": "code",
   "execution_count": 0,
   "metadata": {
    "application/vnd.databricks.v1+cell": {
     "cellMetadata": {
      "byteLimit": 2048000,
      "rowLimit": 10000
     },
     "inputWidgets": {},
     "nuid": "3ceda2b9-4cf5-4d2b-9807-f3f0691c5d06",
     "showTitle": true,
     "title": "save file in silver layer"
    }
   },
   "outputs": [
    {
     "output_type": "stream",
     "name": "stdout",
     "output_type": "stream",
     "text": [
      "+----------+--------------------+----+-------+----------+------+---+\n|     brand|               model|year|mileage|   gearbox| price|age|\n+----------+--------------------+----+-------+----------+------+---+\n|      FIAT|    MOBI LIKE 1.0 4P|2022|  60925|    MANUAL| 54.29|  2|\n|    TOYOTA|COROLLA ALTIS HYB...|2021|  25918|AUTOMÁTICO|155.19|  3|\n|    TOYOTA|COROLLA CROSS XR ...|2021|  24954|AUTOMÁTICO|124.19|  3|\n|   RENAULT|       LOGAN ZEN 1.0|2022|  48120|    MANUAL| 64.39|  2|\n|VOLKSWAGEN|          VOYAGE 1.0|2022|  22111|    MANUAL| 62.99|  2|\n+----------+--------------------+----+-------+----------+------+---+\nonly showing top 5 rows\n\n"
     ]
    }
   ],
   "source": [
    "silver_path = \"dbfs:/FileStore/cardealer/silver\"\n",
    "df_car_silver.write \\\n",
    "    .format(\"delta\") \\\n",
    "    .mode(\"overwrite\") \\\n",
    "    .save(silver_path)\n",
    "df_car_silver.show(5)"
   ]
  },
  {
   "cell_type": "code",
   "execution_count": 0,
   "metadata": {
    "application/vnd.databricks.v1+cell": {
     "cellMetadata": {
      "byteLimit": 2048000,
      "rowLimit": 10000
     },
     "inputWidgets": {},
     "nuid": "6eb645fd-739f-4549-92fa-ab18e4f5d558",
     "showTitle": false,
     "title": ""
    }
   },
   "outputs": [
    {
     "output_type": "stream",
     "name": "stdout",
     "output_type": "stream",
     "text": [
      "+----------+--------------------+----+-------+----------+------+---+\n|     brand|               model|year|mileage|   gearbox| price|age|\n+----------+--------------------+----+-------+----------+------+---+\n|      FIAT|    MOBI LIKE 1.0 4P|2022|  60925|    MANUAL| 54.29|  2|\n|    TOYOTA|COROLLA ALTIS HYB...|2021|  25918|AUTOMÁTICO|155.19|  3|\n|    TOYOTA|COROLLA CROSS XR ...|2021|  24954|AUTOMÁTICO|124.19|  3|\n|   RENAULT|       LOGAN ZEN 1.0|2022|  48120|    MANUAL| 64.39|  2|\n|VOLKSWAGEN|          VOYAGE 1.0|2022|  22111|    MANUAL| 62.99|  2|\n|      FIAT|UNO ATTRACTIVE EV...|2020|  95633|    MANUAL| 47.99|  4|\n|   RENAULT|     KWID ZEN 1.0 4P|2022|  18187|    MANUAL| 57.29|  2|\n|VOLKSWAGEN|T-CROSS 200 TSI A...|2022|  45430|AUTOMÁTICO|103.99|  2|\n|VOLKSWAGEN|      GOL MPI 1.0 4P|2022|  68410|    MANUAL| 57.49|  2|\n|VOLKSWAGEN|      GOL MPI 1.0 4P|2022|  47916|    MANUAL| 59.29|  2|\n+----------+--------------------+----+-------+----------+------+---+\nonly showing top 10 rows\n\n"
     ]
    }
   ],
   "source": [
    "df_car_silver = spark.read.format(\"delta\").load(\"dbfs:/FileStore/cardealer/silver\")\n",
    "df_car_silver.show(10)"
   ]
  },
  {
   "cell_type": "code",
   "execution_count": 0,
   "metadata": {
    "application/vnd.databricks.v1+cell": {
     "cellMetadata": {
      "byteLimit": 2048000,
      "rowLimit": 10000
     },
     "inputWidgets": {},
     "nuid": "c6983db4-d6b5-4451-bec4-299703b16fd4",
     "showTitle": true,
     "title": "Select a column"
    }
   },
   "outputs": [
    {
     "output_type": "stream",
     "name": "stdout",
     "output_type": "stream",
     "text": [
      "+----------+\n|     brand|\n+----------+\n|      FIAT|\n|    TOYOTA|\n|    TOYOTA|\n|   RENAULT|\n|VOLKSWAGEN|\n+----------+\nonly showing top 5 rows\n\n"
     ]
    }
   ],
   "source": [
    "df_car_silver.select('brand').show(5)"
   ]
  },
  {
   "cell_type": "code",
   "execution_count": 0,
   "metadata": {
    "application/vnd.databricks.v1+cell": {
     "cellMetadata": {
      "byteLimit": 2048000,
      "rowLimit": 10000
     },
     "inputWidgets": {},
     "nuid": "2130b2e8-ed0d-4e69-87db-3b927fe5e039",
     "showTitle": true,
     "title": "Select multiple column"
    }
   },
   "outputs": [
    {
     "output_type": "stream",
     "name": "stdout",
     "output_type": "stream",
     "text": [
      "+------+------+\n| brand| price|\n+------+------+\n|  FIAT| 54.29|\n|TOYOTA|155.19|\n|TOYOTA|124.19|\n+------+------+\nonly showing top 3 rows\n\n"
     ]
    }
   ],
   "source": [
    "df_car_silver.select('brand', 'price').show(3)"
   ]
  },
  {
   "cell_type": "code",
   "execution_count": 0,
   "metadata": {
    "application/vnd.databricks.v1+cell": {
     "cellMetadata": {
      "byteLimit": 2048000,
      "rowLimit": 10000
     },
     "inputWidgets": {},
     "nuid": "ed0eff0f-d225-4dee-a283-8e4bc8486cd4",
     "showTitle": true,
     "title": "filter column"
    }
   },
   "outputs": [
    {
     "output_type": "stream",
     "name": "stdout",
     "output_type": "stream",
     "text": [
      "+----------+----------------+----+-------+-------+-----+---+\n|     brand|           model|year|mileage|gearbox|price|age|\n+----------+----------------+----+-------+-------+-----+---+\n|      FIAT|MOBI LIKE 1.0 4P|2022|  60925| MANUAL|54.29|  2|\n|   RENAULT|   LOGAN ZEN 1.0|2022|  48120| MANUAL|64.39|  2|\n|VOLKSWAGEN|      VOYAGE 1.0|2022|  22111| MANUAL|62.99|  2|\n+----------+----------------+----+-------+-------+-----+---+\nonly showing top 3 rows\n\n"
     ]
    }
   ],
   "source": [
    "df_car_silver.filter(col('price')< 100.000).show(3)"
   ]
  },
  {
   "cell_type": "code",
   "execution_count": 0,
   "metadata": {
    "application/vnd.databricks.v1+cell": {
     "cellMetadata": {
      "byteLimit": 2048000,
      "rowLimit": 10000
     },
     "inputWidgets": {},
     "nuid": "673f2a68-074e-4023-8fbd-c02fb72d1cec",
     "showTitle": true,
     "title": "where"
    }
   },
   "outputs": [
    {
     "output_type": "stream",
     "name": "stdout",
     "output_type": "stream",
     "text": [
      "+----------+--------------------+----+-------+----------+------+---+\n|     brand|               model|year|mileage|   gearbox| price|age|\n+----------+--------------------+----+-------+----------+------+---+\n|      FIAT|    MOBI LIKE 1.0 4P|2022|  60925|    MANUAL| 54.29|  2|\n|    TOYOTA|COROLLA CROSS XR ...|2021|  24954|AUTOMÁTICO|124.19|  3|\n|   RENAULT|       LOGAN ZEN 1.0|2022|  48120|    MANUAL| 64.39|  2|\n|VOLKSWAGEN|          VOYAGE 1.0|2022|  22111|    MANUAL| 62.99|  2|\n+----------+--------------------+----+-------+----------+------+---+\nonly showing top 4 rows\n\n"
     ]
    }
   ],
   "source": [
    "df_car_silver.where('price < 150.000').show(4)"
   ]
  },
  {
   "cell_type": "code",
   "execution_count": 0,
   "metadata": {
    "application/vnd.databricks.v1+cell": {
     "cellMetadata": {
      "byteLimit": 2048000,
      "rowLimit": 10000
     },
     "inputWidgets": {},
     "nuid": "ee82e337-1d0a-455b-954b-f3e49adca15a",
     "showTitle": false,
     "title": ""
    }
   },
   "outputs": [
    {
     "output_type": "stream",
     "name": "stdout",
     "output_type": "stream",
     "text": [
      "+----------+--------------------+----+-------+----------+------+---+\n|     brand|               model|year|mileage|   gearbox| price|age|\n+----------+--------------------+----+-------+----------+------+---+\n|    TOYOTA|COROLLA CROSS XR ...|2021|  24954|AUTOMÁTICO|124.19|  3|\n|VOLKSWAGEN|T-CROSS 200 TSI A...|2022|  45430|AUTOMÁTICO|103.99|  2|\n|      FIAT|TORO ENDURANCE FL...|2021|  38426|AUTOMÁTICO|104.49|  3|\n|VOLKSWAGEN|T-CROSS HIGHLINE 1.4|2020|  42395|AUTOMÁTICO|119.49|  4|\n+----------+--------------------+----+-------+----------+------+---+\nonly showing top 4 rows\n\n"
     ]
    }
   ],
   "source": [
    "df_car_silver.where((col('price') > 100.000) & (col('price') < 150.000)).show(4)"
   ]
  },
  {
   "cell_type": "code",
   "execution_count": 0,
   "metadata": {
    "application/vnd.databricks.v1+cell": {
     "cellMetadata": {
      "byteLimit": 2048000,
      "rowLimit": 10000
     },
     "inputWidgets": {},
     "nuid": "75dbab2e-a14f-48c4-931e-5ca59524d77b",
     "showTitle": false,
     "title": ""
    }
   },
   "outputs": [
    {
     "output_type": "stream",
     "name": "stdout",
     "output_type": "stream",
     "text": [
      "+----------+-------------+----+-------+-------+-----+---+\n|     brand|        model|year|mileage|gearbox|price|age|\n+----------+-------------+----+-------+-------+-----+---+\n|   RENAULT|LOGAN ZEN 1.0|2022|  48120| MANUAL|64.39|  2|\n|VOLKSWAGEN|   VOYAGE 1.0|2022|  22111| MANUAL|62.99|  2|\n+----------+-------------+----+-------+-------+-----+---+\nonly showing top 2 rows\n\n"
     ]
    }
   ],
   "source": [
    "df_car_silver.where(col(\"price\") < 70.000).where(col(\"brand\") != \"FIAT\").show(2)"
   ]
  },
  {
   "cell_type": "code",
   "execution_count": 0,
   "metadata": {
    "application/vnd.databricks.v1+cell": {
     "cellMetadata": {
      "byteLimit": 2048000,
      "rowLimit": 10000
     },
     "inputWidgets": {},
     "nuid": "91dffafb-8006-4367-923c-349a0e61a858",
     "showTitle": false,
     "title": ""
    }
   },
   "outputs": [
    {
     "output_type": "stream",
     "name": "stdout",
     "output_type": "stream",
     "text": [
      "Out[198]: 172"
     ]
    }
   ],
   "source": [
    "df_car_silver.select(\"brand\", \"mileage\").distinct().count()"
   ]
  },
  {
   "cell_type": "code",
   "execution_count": 0,
   "metadata": {
    "application/vnd.databricks.v1+cell": {
     "cellMetadata": {
      "byteLimit": 2048000,
      "rowLimit": 10000
     },
     "inputWidgets": {},
     "nuid": "33d4ecf5-47e7-459e-86b1-e46f28e0d522",
     "showTitle": true,
     "title": "sort rows"
    }
   },
   "outputs": [
    {
     "output_type": "stream",
     "name": "stdout",
     "output_type": "stream",
     "text": [
      "+----------+--------------------+----+-------+----------+------+---+\n|     brand|               model|year|mileage|   gearbox| price|age|\n+----------+--------------------+----+-------+----------+------+---+\n|VOLKSWAGEN|NIVUS HIGHLINE 20...|2022|   3896|AUTOMÁTICO|133.99|  2|\n|     CHERY|  TIGGO 8 TXS 7L 1.6|2022|   9433|AUTOMÁTICO|179.59|  2|\n|      FIAT|    MOBI LIKE 1.0 4P|2022|  13411|    MANUAL| 59.79|  2|\n| CHEVROLET|        ONIX LTZ 1.0|2023|  15520|    MANUAL| 90.49|  1|\n|      FIAT|    MOBI LIKE 1.0 4P|2022|  15611|    MANUAL| 60.29|  2|\n+----------+--------------------+----+-------+----------+------+---+\nonly showing top 5 rows\n\n"
     ]
    }
   ],
   "source": [
    "\n",
    "df_car_silver.sort(\"mileage\").show(5)"
   ]
  },
  {
   "cell_type": "code",
   "execution_count": 0,
   "metadata": {
    "application/vnd.databricks.v1+cell": {
     "cellMetadata": {
      "byteLimit": 2048000,
      "rowLimit": 10000
     },
     "inputWidgets": {},
     "nuid": "8fb1644e-97b6-40e3-9704-d9f5fabb8694",
     "showTitle": true,
     "title": "sort rows"
    }
   },
   "outputs": [
    {
     "output_type": "stream",
     "name": "stdout",
     "output_type": "stream",
     "text": [
      "+----------+--------------------+----+-------+----------+------+---+\n|     brand|               model|year|mileage|   gearbox| price|age|\n+----------+--------------------+----+-------+----------+------+---+\n|VOLKSWAGEN|NIVUS HIGHLINE 20...|2022|   3896|AUTOMÁTICO|133.99|  2|\n|     CHERY|  TIGGO 8 TXS 7L 1.6|2022|   9433|AUTOMÁTICO|179.59|  2|\n|      FIAT|    MOBI LIKE 1.0 4P|2022|  13411|    MANUAL| 59.79|  2|\n| CHEVROLET|        ONIX LTZ 1.0|2023|  15520|    MANUAL| 90.49|  1|\n|      FIAT|    MOBI LIKE 1.0 4P|2022|  15611|    MANUAL| 60.29|  2|\n+----------+--------------------+----+-------+----------+------+---+\nonly showing top 5 rows\n\n"
     ]
    }
   ],
   "source": [
    "\n",
    "df_car_silver.orderBy(\"mileage\", \"price\").show(5)"
   ]
  },
  {
   "cell_type": "code",
   "execution_count": 0,
   "metadata": {
    "application/vnd.databricks.v1+cell": {
     "cellMetadata": {
      "byteLimit": 2048000,
      "rowLimit": 10000
     },
     "inputWidgets": {},
     "nuid": "569f8712-9d6d-436f-8aeb-19975c22d510",
     "showTitle": true,
     "title": "sort row"
    }
   },
   "outputs": [
    {
     "output_type": "stream",
     "name": "stdout",
     "output_type": "stream",
     "text": [
      "+----------+--------------------+----+-------+----------+------+---+\n|     brand|               model|year|mileage|   gearbox| price|age|\n+----------+--------------------+----+-------+----------+------+---+\n|VOLKSWAGEN|NIVUS HIGHLINE 20...|2022|   3896|AUTOMÁTICO|133.99|  2|\n|     CHERY|  TIGGO 8 TXS 7L 1.6|2022|   9433|AUTOMÁTICO|179.59|  2|\n|      FIAT|    MOBI LIKE 1.0 4P|2022|  13411|    MANUAL| 59.79|  2|\n| CHEVROLET|        ONIX LTZ 1.0|2023|  15520|    MANUAL| 90.49|  1|\n|      FIAT|    MOBI LIKE 1.0 4P|2022|  15611|    MANUAL| 60.29|  2|\n+----------+--------------------+----+-------+----------+------+---+\nonly showing top 5 rows\n\n"
     ]
    }
   ],
   "source": [
    "df_car_silver.orderBy(col(\"mileage\"), col(\"price\")).show(5)"
   ]
  },
  {
   "cell_type": "code",
   "execution_count": 0,
   "metadata": {
    "application/vnd.databricks.v1+cell": {
     "cellMetadata": {
      "byteLimit": 2048000,
      "rowLimit": 10000
     },
     "inputWidgets": {},
     "nuid": "39abcc9b-abb9-46be-8200-d2993a96e877",
     "showTitle": false,
     "title": ""
    }
   },
   "outputs": [
    {
     "output_type": "stream",
     "name": "stdout",
     "output_type": "stream",
     "text": [
      "+----------+--------------------+----+-------+-------+-----+---+\n|     brand|               model|year|mileage|gearbox|price|age|\n+----------+--------------------+----+-------+-------+-----+---+\n|      FIAT|UNO ATTRACTIVE EV...|2020|  95633| MANUAL|47.99|  4|\n|      FIAT|UNO ATTRACTIVE EV...|2020|  53547| MANUAL|50.99|  4|\n|VOLKSWAGEN|      GOL MPI 1.0 4P|2020|  81826| MANUAL|52.29|  4|\n|   RENAULT|        KWID ZEN 1.0|2021|  43443| MANUAL|52.99|  3|\n|      FIAT|       MOBI LIKE 1.0|2022|  75411| MANUAL|52.99|  2|\n+----------+--------------------+----+-------+-------+-----+---+\nonly showing top 5 rows\n\n"
     ]
    }
   ],
   "source": [
    "from pyspark.sql.functions import expr\n",
    "\n",
    "df_car_silver.orderBy(expr(\"price desc\")).show(5)\n"
   ]
  },
  {
   "cell_type": "code",
   "execution_count": 0,
   "metadata": {
    "application/vnd.databricks.v1+cell": {
     "cellMetadata": {
      "byteLimit": 2048000,
      "rowLimit": 10000
     },
     "inputWidgets": {},
     "nuid": "21f24253-030c-418e-ad6b-0088fcb5462f",
     "showTitle": false,
     "title": ""
    }
   },
   "outputs": [
    {
     "output_type": "stream",
     "name": "stdout",
     "output_type": "stream",
     "text": [
      "+----------+--------------------+----+-------+----------+------+---+\n|     brand|               model|year|mileage|   gearbox| price|age|\n+----------+--------------------+----+-------+----------+------+---+\n|     VOLVO|XC40 T4 MOMENTUM 2.0|2020|  34307|AUTOMÁTICO|205.39|  4|\n|     CHERY|  TIGGO 8 TXS 7L 1.6|2022|   9433|AUTOMÁTICO|179.59|  2|\n|    TOYOTA|COROLLA ALTIS HYB...|2021|  25918|AUTOMÁTICO|155.19|  3|\n|MITSUBISHI|ECLIPSE CROSS HPE...|2022|  47270|AUTOMÁTICO|146.99|  2|\n|     CHERY|    TIGGO 5X PRO 1.5|2022|  16866|AUTOMÁTICO|146.09|  2|\n+----------+--------------------+----+-------+----------+------+---+\nonly showing top 5 rows\n\n"
     ]
    }
   ],
   "source": [
    "df_car_silver.orderBy(col(\"price\").desc(), col(\"mileage\").asc()).show(5)"
   ]
  },
  {
   "cell_type": "code",
   "execution_count": 0,
   "metadata": {
    "application/vnd.databricks.v1+cell": {
     "cellMetadata": {
      "byteLimit": 2048000,
      "rowLimit": 10000
     },
     "inputWidgets": {},
     "nuid": "d24e1975-b153-46de-969d-5154ff2f8ce0",
     "showTitle": true,
     "title": "Filter unique brands"
    }
   },
   "outputs": [
    {
     "output_type": "stream",
     "name": "stdout",
     "output_type": "stream",
     "text": [
      "+----------+\n|     brand|\n+----------+\n|   HYUNDAI|\n|      FIAT|\n|    TOYOTA|\n|   CITROEN|\n|      FORD|\n|   PEUGEOT|\n| CHEVROLET|\n|      JEEP|\n|     VOLVO|\n|VOLKSWAGEN|\n|     CHERY|\n|   RENAULT|\n|MITSUBISHI|\n+----------+\n\n"
     ]
    }
   ],
   "source": [
    "unique_brands = df_car_silver.select(\"brand\").distinct()\n",
    "unique_brands.show()"
   ]
  },
  {
   "cell_type": "code",
   "execution_count": 0,
   "metadata": {
    "application/vnd.databricks.v1+cell": {
     "cellMetadata": {
      "byteLimit": 2048000,
      "rowLimit": 10000
     },
     "inputWidgets": {},
     "nuid": "b3554a91-4904-445a-b424-40bad6aeee94",
     "showTitle": false,
     "title": ""
    }
   },
   "outputs": [
    {
     "output_type": "stream",
     "name": "stdout",
     "output_type": "stream",
     "text": [
      "+-----+--------------------+----+-------+----------+-----+---+\n|brand|               model|year|mileage|   gearbox|price|age|\n+-----+--------------------+----+-------+----------+-----+---+\n| FIAT|    MOBI LIKE 1.0 4P|2022|  60925|    MANUAL|54.29|  2|\n| FIAT|UNO ATTRACTIVE EV...|2020|  95633|    MANUAL|47.99|  4|\n| FIAT|    ARGO FLEX 1.0 4P|2022|  65625|AUTOMÁTICO|61.90|  2|\n| FIAT|    MOBI LIKE 1.0 4P|2022|  13411|    MANUAL|59.79|  2|\n| FIAT|    MOBI LIKE 1.0 4P|2022|  15611|    MANUAL|60.29|  2|\n+-----+--------------------+----+-------+----------+-----+---+\nonly showing top 5 rows\n\n"
     ]
    }
   ],
   "source": [
    "df_car_silver.filter(\"brand = 'FIAT'\").show(5)\n"
   ]
  },
  {
   "cell_type": "code",
   "execution_count": 0,
   "metadata": {
    "application/vnd.databricks.v1+cell": {
     "cellMetadata": {
      "byteLimit": 2048000,
      "rowLimit": 10000
     },
     "inputWidgets": {},
     "nuid": "77a635d0-ff87-44b4-8175-f3dadfa1a125",
     "showTitle": true,
     "title": "count()"
    }
   },
   "outputs": [
    {
     "output_type": "stream",
     "name": "stdout",
     "output_type": "stream",
     "text": [
      " There are 35 of Wolkswagen brand\n"
     ]
    }
   ],
   "source": [
    "count_volkswagen = df_car_silver.filter(\"brand = 'VOLKSWAGEN'\").count()\n",
    "print(f' There are {count_volkswagen} of Wolkswagen brand')"
   ]
  },
  {
   "cell_type": "markdown",
   "metadata": {
    "application/vnd.databricks.v1+cell": {
     "cellMetadata": {},
     "inputWidgets": {},
     "nuid": "c3fca862-948e-4e67-83e5-17ff4ad47252",
     "showTitle": false,
     "title": ""
    }
   },
   "source": [
    "**GOLD LAYER**"
   ]
  },
  {
   "cell_type": "code",
   "execution_count": 0,
   "metadata": {
    "application/vnd.databricks.v1+cell": {
     "cellMetadata": {
      "byteLimit": 2048000,
      "rowLimit": 10000
     },
     "inputWidgets": {},
     "nuid": "e4c708ca-0d1a-44d0-ab78-b01fdec753ab",
     "showTitle": false,
     "title": ""
    }
   },
   "outputs": [],
   "source": [
    "gold_path = \"dbfs:/FileStore/cardealer/gold\"\n",
    "df_car_gold = df_car_silver.write.format(\"delta\").mode(\"overwrite\").save(gold_path)"
   ]
  }
 ],
 "metadata": {
  "application/vnd.databricks.v1+notebook": {
   "dashboards": [],
   "environmentMetadata": null,
   "language": "python",
   "notebookMetadata": {
    "pythonIndentUnit": 4
   },
   "notebookName": "Spark_basic_op",
   "widgets": {}
  }
 },
 "nbformat": 4,
 "nbformat_minor": 0
}
